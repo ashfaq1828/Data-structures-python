{
 "cells": [
  {
   "cell_type": "markdown",
   "id": "e43f43a0",
   "metadata": {},
   "source": [
    "## 1.For a 3X3 matrix with following elements:\n",
    "All the possible paths which exists to reach 'I' from 'A' following above conditions are:\n",
    "ABCFI, ABEHI, ADGHI, ADEFI, ADEHI, ABEFI\n",
    "\n"
   ]
  },
  {
   "cell_type": "code",
   "execution_count": 2,
   "id": "d004b50f",
   "metadata": {},
   "outputs": [
    {
     "name": "stdout",
     "output_type": "stream",
     "text": [
      "6\n"
     ]
    }
   ],
   "source": [
    "\n",
    "# Python program to count all possible paths\n",
    "# from top left to bottom right\n",
    " \n",
    "# function to return count of possible paths\n",
    "# to reach cell at row number m and column\n",
    "# number n from the topmost leftmost\n",
    "# cell (cell at 1, 1)\n",
    "def numberOfPaths(m, n):\n",
    "    if(m == 1 or n == 1):\n",
    "        return 1\n",
    "    return numberOfPaths(m-1, n) + numberOfPaths(m, n-1)\n",
    " \n",
    "m = 3\n",
    "n = 3\n",
    "print(numberOfPaths(m, n))"
   ]
  },
  {
   "cell_type": "code",
   "execution_count": null,
   "id": "7d52d424",
   "metadata": {},
   "outputs": [],
   "source": []
  },
  {
   "cell_type": "markdown",
   "id": "b5154bba",
   "metadata": {},
   "source": [
    "## 2.Josephus Problem:\n",
    "\n",
    "Given the total number of persons n in a circle and each person kills the person next to it starting at the start point in a fixed direction.​ The question is to choose the safe place in the circle so that when you perform these operations starting from 1st place in the circle, you are the last one remaining and survive.\n",
    "\n",
    "Complete the method josephus() that takes the parameter n and returns an integer denoting safe position.  Check for the constraint in your function- n <= 100 and return -1 for incorrect argument\n",
    "\n",
    " \n",
    "\n",
    "Argument\n",
    "\n",
    "Return\n",
    "\n",
    "13\n",
    "\n",
    "11\n",
    "\n",
    "41\n",
    "\n",
    "19\n",
    "\n",
    "\n",
    "Your Task:\n",
    "Expected Time Complexity: O(N).\n",
    "Expected Auxiliary Space: O(N)."
   ]
  },
  {
   "cell_type": "code",
   "execution_count": 3,
   "id": "dd2a2676",
   "metadata": {},
   "outputs": [
    {
     "name": "stdout",
     "output_type": "stream",
     "text": [
      "The chosen place is  13\n"
     ]
    }
   ],
   "source": [
    "def josephus(n, k):\n",
    " \n",
    "    if (n == 1):\n",
    "        return 1\n",
    "    else:\n",
    " \n",
    "# The position returned by\n",
    "# josephus(n - 1, k) is adjusted\n",
    "# because the recursive call\n",
    "# josephus(n - 1, k) considers\n",
    "# the original position\n",
    "# k%n + 1 as position 1\n",
    "        \n",
    "        return (josephus(n - 1, k) + k-1) % n + 1\n",
    " \n",
    " \n",
    " \n",
    "n = 13\n",
    "k = 3\n",
    " \n",
    "print(\"The chosen place is \", josephus(n, k))"
   ]
  },
  {
   "cell_type": "code",
   "execution_count": null,
   "id": "c68f912e",
   "metadata": {},
   "outputs": [],
   "source": []
  },
  {
   "cell_type": "markdown",
   "id": "14a8d0e2",
   "metadata": {},
   "source": [
    "## 3.Find the time and space complexity of the following code"
   ]
  },
  {
   "cell_type": "markdown",
   "id": "71478aa4",
   "metadata": {},
   "source": [
    "## a.\n",
    "\n"
   ]
  },
  {
   "cell_type": "code",
   "execution_count": 1,
   "id": "45cb2255",
   "metadata": {},
   "outputs": [],
   "source": [
    "import sys\n",
    "MIN_INT = -sys.maxsize - 1\n",
    "\n",
    "def getlargestitem(items):\n",
    "    largest = MIN_INT\n",
    "    for item in items:\n",
    "        if item > largest:\n",
    "            largest = item\n",
    "    return largest\n",
    "\n",
    "\n",
    "#  O(n) is time \n",
    "#  O(n) is space complexity\n",
    "\n",
    "#  Here O is omega"
   ]
  },
  {
   "cell_type": "markdown",
   "id": "30f6e739",
   "metadata": {},
   "source": [
    "## b."
   ]
  },
  {
   "cell_type": "code",
   "execution_count": 25,
   "id": "f62608d2",
   "metadata": {},
   "outputs": [
    {
     "name": "stdout",
     "output_type": "stream",
     "text": [
      "<function twosum at 0x000001E5511EF040>\n"
     ]
    }
   ],
   "source": [
    "def twosum(nums, target):\n",
    "    for i in nums:\n",
    "        j = i + 1\n",
    "        while j < nums.length:\n",
    "            j += 1\n",
    "            if nums[j] == target - nums[i]:\n",
    "                return list((i, j))\n",
    "            \n",
    "nums=[2,5]\n",
    "target=6\n",
    "\n",
    "print(twosum)\n",
    "\n",
    "#Here you're both inner and outer loop start from 0th so in the case [3,2,4] and target 6 \n",
    "#it will return [0,0] as 3 + 3 is equal to target, \n",
    "#so to take care of same index element not being used twice created a difference of 1 between outer and inner loop"
   ]
  },
  {
   "cell_type": "markdown",
   "id": "de42c570",
   "metadata": {},
   "source": [
    "## c."
   ]
  },
  {
   "cell_type": "code",
   "execution_count": 37,
   "id": "365074df",
   "metadata": {},
   "outputs": [
    {
     "name": "stdout",
     "output_type": "stream",
     "text": [
      "<function f at 0x000001E5511051F0>\n"
     ]
    }
   ],
   "source": [
    "import math\n",
    "def f():\n",
    "    for i in range(n):\n",
    "        j = 1\n",
    "        while j <= math.log2(i):\n",
    "            j += 1\n",
    "            print(\"Skill lync\")\n",
    "            \n",
    "n=4\n",
    "print(f)"
   ]
  },
  {
   "cell_type": "code",
   "execution_count": null,
   "id": "215c1833",
   "metadata": {},
   "outputs": [],
   "source": []
  },
  {
   "cell_type": "code",
   "execution_count": null,
   "id": "9b77b1d7",
   "metadata": {},
   "outputs": [],
   "source": []
  },
  {
   "cell_type": "code",
   "execution_count": null,
   "id": "4e844196",
   "metadata": {},
   "outputs": [],
   "source": []
  },
  {
   "cell_type": "code",
   "execution_count": null,
   "id": "12f670d5",
   "metadata": {},
   "outputs": [],
   "source": []
  },
  {
   "cell_type": "code",
   "execution_count": null,
   "id": "c23efc49",
   "metadata": {},
   "outputs": [],
   "source": []
  },
  {
   "cell_type": "code",
   "execution_count": null,
   "id": "89bdf773",
   "metadata": {},
   "outputs": [],
   "source": []
  },
  {
   "cell_type": "code",
   "execution_count": null,
   "id": "4284a7b9",
   "metadata": {},
   "outputs": [],
   "source": []
  },
  {
   "cell_type": "code",
   "execution_count": null,
   "id": "f0fd6921",
   "metadata": {},
   "outputs": [],
   "source": []
  },
  {
   "cell_type": "code",
   "execution_count": null,
   "id": "f018a8dc",
   "metadata": {},
   "outputs": [],
   "source": []
  },
  {
   "cell_type": "code",
   "execution_count": null,
   "id": "f7c9379f",
   "metadata": {},
   "outputs": [],
   "source": []
  },
  {
   "cell_type": "code",
   "execution_count": null,
   "id": "eb65e1c8",
   "metadata": {},
   "outputs": [],
   "source": []
  },
  {
   "cell_type": "code",
   "execution_count": null,
   "id": "4d31e5f9",
   "metadata": {},
   "outputs": [],
   "source": []
  },
  {
   "cell_type": "code",
   "execution_count": null,
   "id": "87a064bc",
   "metadata": {},
   "outputs": [],
   "source": []
  },
  {
   "cell_type": "code",
   "execution_count": null,
   "id": "d42b975f",
   "metadata": {},
   "outputs": [],
   "source": []
  },
  {
   "cell_type": "code",
   "execution_count": null,
   "id": "241f9639",
   "metadata": {},
   "outputs": [],
   "source": []
  },
  {
   "cell_type": "code",
   "execution_count": null,
   "id": "d6938353",
   "metadata": {},
   "outputs": [],
   "source": []
  },
  {
   "cell_type": "code",
   "execution_count": null,
   "id": "5168e598",
   "metadata": {},
   "outputs": [],
   "source": []
  },
  {
   "cell_type": "code",
   "execution_count": null,
   "id": "360ce363",
   "metadata": {},
   "outputs": [],
   "source": []
  },
  {
   "cell_type": "code",
   "execution_count": null,
   "id": "0fc39e42",
   "metadata": {},
   "outputs": [],
   "source": []
  },
  {
   "cell_type": "code",
   "execution_count": null,
   "id": "0dfe614f",
   "metadata": {},
   "outputs": [],
   "source": []
  },
  {
   "cell_type": "code",
   "execution_count": null,
   "id": "2af3d4e2",
   "metadata": {},
   "outputs": [],
   "source": []
  },
  {
   "cell_type": "code",
   "execution_count": null,
   "id": "a23dc906",
   "metadata": {},
   "outputs": [],
   "source": []
  },
  {
   "cell_type": "code",
   "execution_count": null,
   "id": "6f38efd0",
   "metadata": {},
   "outputs": [],
   "source": []
  },
  {
   "cell_type": "code",
   "execution_count": null,
   "id": "8bca7185",
   "metadata": {},
   "outputs": [],
   "source": []
  },
  {
   "cell_type": "code",
   "execution_count": null,
   "id": "1d672640",
   "metadata": {},
   "outputs": [],
   "source": []
  },
  {
   "cell_type": "code",
   "execution_count": null,
   "id": "47dd32b9",
   "metadata": {},
   "outputs": [],
   "source": []
  },
  {
   "cell_type": "code",
   "execution_count": null,
   "id": "ce6fb1e9",
   "metadata": {},
   "outputs": [],
   "source": []
  }
 ],
 "metadata": {
  "kernelspec": {
   "display_name": "Python 3 (ipykernel)",
   "language": "python",
   "name": "python3"
  },
  "language_info": {
   "codemirror_mode": {
    "name": "ipython",
    "version": 3
   },
   "file_extension": ".py",
   "mimetype": "text/x-python",
   "name": "python",
   "nbconvert_exporter": "python",
   "pygments_lexer": "ipython3",
   "version": "3.9.7"
  }
 },
 "nbformat": 4,
 "nbformat_minor": 5
}
