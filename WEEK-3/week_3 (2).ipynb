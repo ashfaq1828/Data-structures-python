{
 "cells": [
  {
   "cell_type": "markdown",
   "id": "a420991d",
   "metadata": {},
   "source": [
    "## Queue using two stack:"
   ]
  },
  {
   "cell_type": "code",
   "execution_count": 6,
   "id": "e50937e7",
   "metadata": {},
   "outputs": [],
   "source": [
    "class queue2stacks(object):\n",
    "    def __init__(self):\n",
    "        self.stack1=[]\n",
    "        self.stack2=[]\n",
    "    def Add(self,item):\n",
    "        self.stack1.append(item)\n",
    "\n",
    "    def Remove(self):\n",
    "        for i in range(len(self.stack1)):\n",
    "            self.stack2.append(self.stack1.pop())\n",
    "        return self.stack2.pop()"
   ]
  },
  {
   "cell_type": "code",
   "execution_count": 7,
   "id": "77f3f9ad",
   "metadata": {},
   "outputs": [],
   "source": [
    "r= queue2stacks()\n",
    "r.Add(90)\n",
    "r.Add(78)\n",
    "r.Add(40)\n",
    "r.Add(460)"
   ]
  },
  {
   "cell_type": "code",
   "execution_count": 8,
   "id": "6aa3224c",
   "metadata": {},
   "outputs": [
    {
     "data": {
      "text/plain": [
       "90"
      ]
     },
     "execution_count": 8,
     "metadata": {},
     "output_type": "execute_result"
    }
   ],
   "source": [
    "r.Remove()\n"
   ]
  },
  {
   "cell_type": "code",
   "execution_count": 9,
   "id": "bda47b7e",
   "metadata": {},
   "outputs": [
    {
     "data": {
      "text/plain": [
       "78"
      ]
     },
     "execution_count": 9,
     "metadata": {},
     "output_type": "execute_result"
    }
   ],
   "source": [
    "r.Remove()"
   ]
  },
  {
   "cell_type": "code",
   "execution_count": 10,
   "id": "891bc7f8",
   "metadata": {},
   "outputs": [
    {
     "data": {
      "text/plain": [
       "40"
      ]
     },
     "execution_count": 10,
     "metadata": {},
     "output_type": "execute_result"
    }
   ],
   "source": [
    "r.Remove()"
   ]
  },
  {
   "cell_type": "code",
   "execution_count": 11,
   "id": "aba8f7d9",
   "metadata": {},
   "outputs": [
    {
     "data": {
      "text/plain": [
       "460"
      ]
     },
     "execution_count": 11,
     "metadata": {},
     "output_type": "execute_result"
    }
   ],
   "source": [
    "r.Remove()"
   ]
  },
  {
   "cell_type": "code",
   "execution_count": 12,
   "id": "436a998e",
   "metadata": {},
   "outputs": [
    {
     "ename": "IndexError",
     "evalue": "pop from empty list",
     "output_type": "error",
     "traceback": [
      "\u001b[1;31m---------------------------------------------------------------------------\u001b[0m",
      "\u001b[1;31mIndexError\u001b[0m                                Traceback (most recent call last)",
      "\u001b[1;32m~\\AppData\\Local\\Temp/ipykernel_21344/2949805241.py\u001b[0m in \u001b[0;36m<module>\u001b[1;34m\u001b[0m\n\u001b[1;32m----> 1\u001b[1;33m \u001b[0mr\u001b[0m\u001b[1;33m.\u001b[0m\u001b[0mRemove\u001b[0m\u001b[1;33m(\u001b[0m\u001b[1;33m)\u001b[0m\u001b[1;33m\u001b[0m\u001b[1;33m\u001b[0m\u001b[0m\n\u001b[0m",
      "\u001b[1;32m~\\AppData\\Local\\Temp/ipykernel_21344/3164575509.py\u001b[0m in \u001b[0;36mRemove\u001b[1;34m(self)\u001b[0m\n\u001b[0;32m      9\u001b[0m         \u001b[1;32mfor\u001b[0m \u001b[0mi\u001b[0m \u001b[1;32min\u001b[0m \u001b[0mrange\u001b[0m\u001b[1;33m(\u001b[0m\u001b[0mlen\u001b[0m\u001b[1;33m(\u001b[0m\u001b[0mself\u001b[0m\u001b[1;33m.\u001b[0m\u001b[0mstack1\u001b[0m\u001b[1;33m)\u001b[0m\u001b[1;33m)\u001b[0m\u001b[1;33m:\u001b[0m\u001b[1;33m\u001b[0m\u001b[1;33m\u001b[0m\u001b[0m\n\u001b[0;32m     10\u001b[0m             \u001b[0mself\u001b[0m\u001b[1;33m.\u001b[0m\u001b[0mstack2\u001b[0m\u001b[1;33m.\u001b[0m\u001b[0mappend\u001b[0m\u001b[1;33m(\u001b[0m\u001b[0mself\u001b[0m\u001b[1;33m.\u001b[0m\u001b[0mstack1\u001b[0m\u001b[1;33m.\u001b[0m\u001b[0mpop\u001b[0m\u001b[1;33m(\u001b[0m\u001b[1;33m)\u001b[0m\u001b[1;33m)\u001b[0m\u001b[1;33m\u001b[0m\u001b[1;33m\u001b[0m\u001b[0m\n\u001b[1;32m---> 11\u001b[1;33m         \u001b[1;32mreturn\u001b[0m \u001b[0mself\u001b[0m\u001b[1;33m.\u001b[0m\u001b[0mstack2\u001b[0m\u001b[1;33m.\u001b[0m\u001b[0mpop\u001b[0m\u001b[1;33m(\u001b[0m\u001b[1;33m)\u001b[0m\u001b[1;33m\u001b[0m\u001b[1;33m\u001b[0m\u001b[0m\n\u001b[0m",
      "\u001b[1;31mIndexError\u001b[0m: pop from empty list"
     ]
    }
   ],
   "source": [
    "r.Remove()"
   ]
  },
  {
   "cell_type": "code",
   "execution_count": null,
   "id": "219e9dfc",
   "metadata": {},
   "outputs": [],
   "source": []
  },
  {
   "cell_type": "markdown",
   "id": "e8e212a9",
   "metadata": {},
   "source": [
    "## Stack using two queues:\n",
    "\n"
   ]
  },
  {
   "cell_type": "code",
   "execution_count": 14,
   "id": "8f66d784",
   "metadata": {},
   "outputs": [],
   "source": [
    "from queue import Queue"
   ]
  },
  {
   "cell_type": "code",
   "execution_count": 15,
   "id": "73e5c02d",
   "metadata": {},
   "outputs": [],
   "source": [
    "\n",
    " \n",
    "class MyStack:\n",
    " \n",
    "    def __init__(self):\n",
    "        self.insert_queue = Queue()\n",
    "        self.shuffle_queue = Queue()\n",
    "        self.stack_length = 0\n",
    " \n",
    "    def push(self, x: int) -> None:\n",
    "        self.insert_queue.put(x)\n",
    " \n",
    "        while not self.shuffle_queue.empty():\n",
    "            self.insert_queue.put(\n",
    "                self.shuffle_queue.get()\n",
    "            )\n",
    " \n",
    "        tem = self.insert_queue\n",
    "        self.insert_queue = self.shuffle_queue\n",
    "        self.shuffle_queue = tem\n",
    "        self.stack_length = self.stack_length + 1\n",
    " \n",
    "        return None\n",
    " \n",
    "    def pop(self) -> int:\n",
    "        if (self.shuffle_queue.empty()):\n",
    "            return 0\n",
    "        else:\n",
    "            item = self.shuffle_queue.get()\n",
    "            self.stack_length -= 1\n",
    "            return item\n",
    " \n",
    "    def top(self) -> int:\n",
    "        if (self.shuffle_queue.empty()):\n",
    "            return None\n",
    "        return self.shuffle_queue.queue[0]\n",
    " \n",
    "    def empty(self) -> bool:\n",
    "        return self.stack_length==0"
   ]
  },
  {
   "cell_type": "code",
   "execution_count": 16,
   "id": "110dea63",
   "metadata": {},
   "outputs": [],
   "source": [
    "p=MyStack()"
   ]
  },
  {
   "cell_type": "code",
   "execution_count": 17,
   "id": "528d1ff5",
   "metadata": {},
   "outputs": [],
   "source": [
    "p.push(12)\n",
    "p.push(22)\n",
    "p.push(32)\n",
    "p.push(42)\n",
    "p.push(52)"
   ]
  },
  {
   "cell_type": "code",
   "execution_count": 18,
   "id": "c4d0a4f4",
   "metadata": {},
   "outputs": [
    {
     "data": {
      "text/plain": [
       "52"
      ]
     },
     "execution_count": 18,
     "metadata": {},
     "output_type": "execute_result"
    }
   ],
   "source": [
    "p.pop()"
   ]
  },
  {
   "cell_type": "code",
   "execution_count": 19,
   "id": "dac59fe9",
   "metadata": {},
   "outputs": [
    {
     "data": {
      "text/plain": [
       "42"
      ]
     },
     "execution_count": 19,
     "metadata": {},
     "output_type": "execute_result"
    }
   ],
   "source": [
    "p.pop()"
   ]
  },
  {
   "cell_type": "code",
   "execution_count": 20,
   "id": "14db6170",
   "metadata": {},
   "outputs": [
    {
     "data": {
      "text/plain": [
       "32"
      ]
     },
     "execution_count": 20,
     "metadata": {},
     "output_type": "execute_result"
    }
   ],
   "source": [
    "p.pop()"
   ]
  },
  {
   "cell_type": "code",
   "execution_count": 21,
   "id": "ac12d853",
   "metadata": {},
   "outputs": [
    {
     "data": {
      "text/plain": [
       "22"
      ]
     },
     "execution_count": 21,
     "metadata": {},
     "output_type": "execute_result"
    }
   ],
   "source": [
    "p.pop()"
   ]
  },
  {
   "cell_type": "code",
   "execution_count": 22,
   "id": "3e2a80e5",
   "metadata": {},
   "outputs": [
    {
     "data": {
      "text/plain": [
       "12"
      ]
     },
     "execution_count": 22,
     "metadata": {},
     "output_type": "execute_result"
    }
   ],
   "source": [
    "p.pop()"
   ]
  },
  {
   "cell_type": "code",
   "execution_count": 23,
   "id": "fe472a85",
   "metadata": {},
   "outputs": [
    {
     "data": {
      "text/plain": [
       "0"
      ]
     },
     "execution_count": 23,
     "metadata": {},
     "output_type": "execute_result"
    }
   ],
   "source": [
    "p.pop()"
   ]
  },
  {
   "cell_type": "code",
   "execution_count": null,
   "id": "2b032254",
   "metadata": {},
   "outputs": [],
   "source": []
  }
 ],
 "metadata": {
  "kernelspec": {
   "display_name": "Python 3 (ipykernel)",
   "language": "python",
   "name": "python3"
  },
  "language_info": {
   "codemirror_mode": {
    "name": "ipython",
    "version": 3
   },
   "file_extension": ".py",
   "mimetype": "text/x-python",
   "name": "python",
   "nbconvert_exporter": "python",
   "pygments_lexer": "ipython3",
   "version": "3.9.7"
  }
 },
 "nbformat": 4,
 "nbformat_minor": 5
}
